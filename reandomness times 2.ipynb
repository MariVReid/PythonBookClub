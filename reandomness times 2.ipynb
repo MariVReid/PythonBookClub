{
 "cells": [
  {
   "cell_type": "code",
   "execution_count": 2,
   "metadata": {},
   "outputs": [
    {
     "ename": "ModuleNotFoundError",
     "evalue": "No module named 'matplotlib'",
     "output_type": "error",
     "traceback": [
      "\u001b[1;31m---------------------------------------------------------------------------\u001b[0m",
      "\u001b[1;31mModuleNotFoundError\u001b[0m                       Traceback (most recent call last)",
      "Cell \u001b[1;32mIn[2], line 5\u001b[0m\n\u001b[0;32m      3\u001b[0m \u001b[38;5;28;01mimport\u001b[39;00m \u001b[38;5;21;01mrandom\u001b[39;00m\n\u001b[0;32m      4\u001b[0m \u001b[38;5;28;01mfrom\u001b[39;00m \u001b[38;5;21;01mrandom\u001b[39;00m \u001b[38;5;28;01mimport\u001b[39;00m randint \n\u001b[1;32m----> 5\u001b[0m \u001b[38;5;28;01mimport\u001b[39;00m \u001b[38;5;21;01mmatplotlib\u001b[39;00m\u001b[38;5;21;01m.\u001b[39;00m\u001b[38;5;21;01mpyplot\u001b[39;00m \u001b[38;5;28;01mas\u001b[39;00m \u001b[38;5;21;01mplt\u001b[39;00m\n\u001b[0;32m      7\u001b[0m length_of_string \u001b[38;5;241m=\u001b[39m \u001b[38;5;241m100\u001b[39m\n\u001b[0;32m      8\u001b[0m rand \u001b[38;5;241m=\u001b[39m []\n",
      "\u001b[1;31mModuleNotFoundError\u001b[0m: No module named 'matplotlib'"
     ]
    }
   ],
   "source": [
    "#This code is meant to generate a string of random ones and zeros and count how many of the same number occur in a row\n",
    "\n",
    "import random\n",
    "from random import randint \n",
    "import matplotlib.pyplot as plt\n",
    "\n",
    "length_of_string = 100\n",
    "rand = []\n",
    "\n",
    "for x in range (length_of_string):\n",
    "    numb = randint(0,1)\n",
    "    rand.append(numb)\n",
    "\n",
    "print(rand)\n",
    "\n",
    "placeholder=length_of_string-1\n",
    "#test=[1,2,3,4,5,6,7,8,9,10]\n",
    "\n",
    "count=1\n",
    "seq = []\n",
    "for n in range(length_of_string):\n",
    "    #print(n)\n",
    "    #print(\"---------------------------------\")\n",
    "    current_index = n\n",
    "    next_index = n+1\n",
    "    if (current_index)==placeholder:\n",
    "        if TF == 0:\n",
    "            count = 1\n",
    "            #print(count)\n",
    "            seq.append(count)\n",
    "        else:\n",
    "            #print(count)\n",
    "            seq.append(count)\n",
    "    else:\n",
    "        if rand[current_index] == rand[next_index]:\n",
    "            count=count+1\n",
    "            TF=1\n",
    "        else:\n",
    "            #print(count)\n",
    "            seq.append(count)\n",
    "            count=1\n",
    "            TF=0\n",
    "\n",
    "print(seq)\n",
    "\n",
    "plt.hist(seq)\n",
    "\n",
    "#print(\"---------------------------------\")\n",
    "#for n in range(length_of_string):\n",
    "#    print(n)\n",
    "\n"
   ]
  }
 ],
 "metadata": {
  "kernelspec": {
   "display_name": "Python 3",
   "language": "python",
   "name": "python3"
  },
  "language_info": {
   "codemirror_mode": {
    "name": "ipython",
    "version": 3
   },
   "file_extension": ".py",
   "mimetype": "text/x-python",
   "name": "python",
   "nbconvert_exporter": "python",
   "pygments_lexer": "ipython3",
   "version": "3.12.2"
  }
 },
 "nbformat": 4,
 "nbformat_minor": 2
}
