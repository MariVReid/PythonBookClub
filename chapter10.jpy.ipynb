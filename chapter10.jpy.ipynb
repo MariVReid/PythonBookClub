{
 "cells": [
  {
   "cell_type": "markdown",
   "metadata": {},
   "source": [
    "Chapter 10 "
   ]
  },
  {
   "cell_type": "code",
   "execution_count": 11,
   "metadata": {},
   "outputs": [
    {
     "name": "stdout",
     "output_type": "stream",
     "text": [
      "3.1415926535\n",
      "  8979323846\n",
      "  2643383279\n"
     ]
    }
   ],
   "source": [
    "from pathlib import Path\n",
    "\n",
    "path=Path('pi_dig.txt')\n",
    "contents = path.read_text()\n",
    "print(contents)\n"
   ]
  },
  {
   "cell_type": "code",
   "execution_count": 10,
   "metadata": {},
   "outputs": [
    {
     "name": "stdout",
     "output_type": "stream",
     "text": [
      "3.1415926535\n",
      "  8979323846\n",
      "  2643383279\n"
     ]
    }
   ],
   "source": [
    "from pathlib import Path\n",
    "\n",
    "path=Path('pi_dig.txt')\n",
    "contents = path.read_text()\n",
    "contents = contents.rstrip() #should remove the empty line at the end\n",
    "print(contents)\n"
   ]
  },
  {
   "cell_type": "markdown",
   "metadata": {},
   "source": [
    "- if you are opening a file in the same folder as the code, then all you need is the file name\n",
    "- if it is in a different place you need more of the file path\n",
    "\n",
    "Relative file path (for folders inside your current one):  \n",
    "path = Path('text_files/filename.txt')\n",
    "\n",
    "Absolute file path:  \n",
    "path = Path('/home/eric/data_files/text_files/filename.txt')"
   ]
  },
  {
   "cell_type": "code",
   "execution_count": 9,
   "metadata": {},
   "outputs": [
    {
     "name": "stdout",
     "output_type": "stream",
     "text": [
      "3.1415926535\n",
      "\n",
      "\n",
      "  8979323846\n",
      "\n",
      "\n",
      "  2643383279\n",
      "\n",
      "\n"
     ]
    }
   ],
   "source": [
    "from pathlib import Path\n",
    "\n",
    "path=Path('pi_dig.txt')\n",
    "contents = path.read_text()\n",
    "lines = contents.splitlines()\n",
    "for line in lines:\n",
    "    print(line)\n",
    "    print(f\"\\n\")"
   ]
  },
  {
   "cell_type": "code",
   "execution_count": 8,
   "metadata": {},
   "outputs": [
    {
     "name": "stdout",
     "output_type": "stream",
     "text": [
      "3.1415926535  8979323846  2643383279\n",
      "36\n"
     ]
    }
   ],
   "source": [
    "from pathlib import Path\n",
    "\n",
    "path=Path('pi_dig.txt')\n",
    "contents = path.read_text()\n",
    "lines = contents.splitlines()\n",
    "pi_string=''\n",
    "for line in lines:\n",
    "    pi_string+=line\n",
    "print(pi_string)\n",
    "print(len(pi_string))"
   ]
  },
  {
   "cell_type": "code",
   "execution_count": 13,
   "metadata": {},
   "outputs": [
    {
     "name": "stdout",
     "output_type": "stream",
     "text": [
      "3.141592653589793238462643383279\n",
      "32\n"
     ]
    }
   ],
   "source": [
    "pi_string=''\n",
    "for line in lines:\n",
    "    pi_string+=line.lstrip()\n",
    "print(pi_string)\n",
    "print(len(pi_string))"
   ]
  },
  {
   "cell_type": "code",
   "execution_count": 16,
   "metadata": {},
   "outputs": [
    {
     "name": "stdout",
     "output_type": "stream",
     "text": [
      "3.14159265358979323846264338327950288419716939937510...\n",
      "1000002\n",
      "\n",
      "\n",
      "Your b-day is NOT in the first million digits of pi\n"
     ]
    }
   ],
   "source": [
    "path=Path('pi_million_digits.txt')\n",
    "contents = path.read_text()\n",
    "lines = contents.splitlines()\n",
    "pi_string=''\n",
    "for line in lines:\n",
    "    pi_string+=line.lstrip()\n",
    "print(f\"{pi_string[:52]}...\")\n",
    "print(len(pi_string))\n",
    "print(f\"\\n\")\n",
    "\n",
    "birthday = input(\"Enter your birthday, in the form mmddyy: \")\n",
    "if birthday in pi_string:\n",
    "    print(\"Your b-day is in the first million digits of pi\")\n",
    "else:\n",
    "    print(\"Your b-day is NOT in the first million digits of pi\")"
   ]
  },
  {
   "cell_type": "markdown",
   "metadata": {},
   "source": [
    "You can use .replace('old', 'new) to replace words in a string wherever they appear "
   ]
  },
  {
   "cell_type": "code",
   "execution_count": 18,
   "metadata": {},
   "outputs": [
    {
     "data": {
      "text/plain": [
       "111"
      ]
     },
     "execution_count": 18,
     "metadata": {},
     "output_type": "execute_result"
    }
   ],
   "source": [
    "from pathlib import Path\n",
    "\n",
    "path=Path('chapter10practice.txt')\n",
    "path.write_text(\"This is a test.\")\n",
    "\n",
    "contents = \"This is for bookclub . \\n\"\n",
    "contents+= \"Book club is me, phil, bob and sometimes crystal \\n\"\n",
    "contents += \"I need to ask them to switch times :(\"\n",
    "\n",
    "path.write_text(contents) #This will overwrite the this is a test message"
   ]
  },
  {
   "cell_type": "markdown",
   "metadata": {},
   "source": [
    "EXCEPTIONS"
   ]
  },
  {
   "cell_type": "code",
   "execution_count": 19,
   "metadata": {},
   "outputs": [
    {
     "name": "stdout",
     "output_type": "stream",
     "text": [
      "You can't divide by zero!\n"
     ]
    }
   ],
   "source": [
    "try:\n",
    "    print(5/0)\n",
    "except ZeroDivisionError:\n",
    "    print(\"You can't divide by zero!\") #replaces normal error message, lets code keep going"
   ]
  },
  {
   "cell_type": "code",
   "execution_count": 20,
   "metadata": {},
   "outputs": [
    {
     "name": "stdout",
     "output_type": "stream",
     "text": [
      "Give me two numbers, and I'll divide them.\n",
      "Enter 'q' to quit.\n",
      "you can't divide by 0!\n",
      "0.3333333333333333\n",
      "1.5\n"
     ]
    }
   ],
   "source": [
    "print(\"Give me two numbers, and I'll divide them.\")\n",
    "print(\"Enter 'q' to quit.\")\n",
    "while True:\n",
    "    first_number = input(\"\\nFirst number: \")\n",
    "    if first_number == 'q':\n",
    "        break\n",
    "    second_number = input(\"Second number: \")\n",
    "    if second_number == 'q':\n",
    "        break\n",
    "    try: #idiot proofing\n",
    "        answer = int(first_number) / int(second_number)\n",
    "    except ZeroDivisionError:\n",
    "        print(\"you can't divide by 0!\")\n",
    "    else:   #runs only if the try condition passes without error\n",
    "        print(answer)"
   ]
  }
 ],
 "metadata": {
  "kernelspec": {
   "display_name": "Python 3",
   "language": "python",
   "name": "python3"
  },
  "language_info": {
   "codemirror_mode": {
    "name": "ipython",
    "version": 3
   },
   "file_extension": ".py",
   "mimetype": "text/x-python",
   "name": "python",
   "nbconvert_exporter": "python",
   "pygments_lexer": "ipython3",
   "version": "3.12.3"
  }
 },
 "nbformat": 4,
 "nbformat_minor": 2
}
